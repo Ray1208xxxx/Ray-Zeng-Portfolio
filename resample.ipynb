{
 "cells": [
  {
   "cell_type": "code",
   "execution_count": 2,
   "metadata": {},
   "outputs": [
    {
     "data": {
      "text/plain": [
       "(      id                                              name  host_id host_name  \\\n",
       " 0   3781                         HARBORSIDE-Walk to subway     4804     Frank   \n",
       " 1   5506    ** Fort Hill Inn Private! Minutes to center!**     8229     Terry   \n",
       " 2   6695     Fort Hill Inn *Sunny* 1 bedroom, condo duplex     8229     Terry   \n",
       " 3   8789               Curved Glass Studio/1bd facing Park    26988      Anne   \n",
       " 4  10811  Back Bay Apt Studio-3 blocks to Pru center & \"T\"    38997  Michelle   \n",
       " \n",
       "   neighbourhood  latitude  longitude        room_type  price  minimum_nights  \\\n",
       " 0   East Boston  42.36413  -71.02991  Entire home/apt  125.0              29   \n",
       " 1       Roxbury  42.32844  -71.09581  Entire home/apt  139.0               3   \n",
       " 2       Roxbury  42.32802  -71.09387  Entire home/apt  179.0               3   \n",
       " 3   Beacon Hill  42.35867  -71.06307  Entire home/apt   92.0              91   \n",
       " 4      Back Bay  42.35173  -71.08685  Entire home/apt  130.0              91   \n",
       " \n",
       "    number_of_reviews last_review  reviews_per_month  \\\n",
       " 0                 25  2023/12/11               0.23   \n",
       " 1                123   2024/4/24               0.66   \n",
       " 2                128   2024/4/16               0.71   \n",
       " 3                 29   2024/5/15               0.24   \n",
       " 4                  9   2019/7/22               0.09   \n",
       " \n",
       "    calculated_host_listings_count  availability_365  number_of_reviews_ltm  \\\n",
       " 0                               1               317                      1   \n",
       " 1                              10               112                      5   \n",
       " 2                              10                79                      4   \n",
       " 3                               8               101                      3   \n",
       " 4                              13               364                      0   \n",
       " \n",
       "       license  \n",
       " 0         NaN  \n",
       " 1  STR-490093  \n",
       " 2  STR-491702  \n",
       " 3         NaN  \n",
       " 4         NaN  ,\n",
       " Index(['id', 'name', 'host_id', 'host_name', 'neighbourhood', 'latitude',\n",
       "        'longitude', 'room_type', 'price', 'minimum_nights',\n",
       "        'number_of_reviews', 'last_review', 'reviews_per_month',\n",
       "        'calculated_host_listings_count', 'availability_365',\n",
       "        'number_of_reviews_ltm', 'license'],\n",
       "       dtype='object'))"
      ]
     },
     "execution_count": 2,
     "metadata": {},
     "output_type": "execute_result"
    }
   ],
   "source": [
    "import pandas as pd\n",
    "\n",
    "# Load the uploaded CSV file to review its structure and contents\n",
    "file_path = 'listings.csv'\n",
    "data = pd.read_csv(file_path, encoding='latin1')\n",
    "\n",
    "# Display the first few rows to understand the structure of the data\n",
    "data.head(), data.columns"
   ]
  },
  {
   "cell_type": "code",
   "execution_count": 4,
   "metadata": {},
   "outputs": [
    {
     "data": {
      "text/plain": [
       "((1169, 17),\n",
       "                        id                                               name  \\\n",
       " 2440   681783562025076195     (B) Comfortable bedroom near BU, MIT & Harvard   \n",
       " 1201             36114933  1)BU/Harvrd/MIT/Qnbed/Priv bath&entrnce/freeprkng   \n",
       " 1277             38391365  1-2 __LLSTON_ 3 Mins to Green Line T - Comfort...   \n",
       " 3306   967311247275960043                   Full Bedroom A in #1419: Allston   \n",
       " 3831  1065104690247132532                  Queen Bedroom A in #1285: Allston   \n",
       " \n",
       "         host_id host_name neighbourhood  latitude  longitude     room_type  \\\n",
       " 2440   37035419     Wendy       Allston  42.35713  -71.13000  Private room   \n",
       " 1201   18409308   Marlene       Allston  42.36079  -71.12684  Private room   \n",
       " 1277  290984032    Turana       Allston  42.35106  -71.13502  Private room   \n",
       " 3306  297860058    Sophia       Allston  42.35678  -71.13208  Private room   \n",
       " 3831  297860058    Sophia       Allston  42.35406  -71.13169  Private room   \n",
       " \n",
       "       price  minimum_nights  number_of_reviews last_review  reviews_per_month  \\\n",
       " 2440   75.0              91                  2    2023/5/3               0.11   \n",
       " 1201  140.0               2                224   2024/6/14               3.79   \n",
       " 1277    NaN              29                  5   2020/4/15               0.09   \n",
       " 3306   44.0              91                  0         NaN                NaN   \n",
       " 3831   63.0              91                  0         NaN                NaN   \n",
       " \n",
       "       calculated_host_listings_count  availability_365  number_of_reviews_ltm  \\\n",
       " 2440                               9               266                      0   \n",
       " 1201                               3                90                     44   \n",
       " 1277                               7                 0                      0   \n",
       " 3306                             154               357                      0   \n",
       " 3831                             154               352                      0   \n",
       " \n",
       "                                                 license  \n",
       " 2440                                                NaN  \n",
       " 1201                                         STR-545307  \n",
       " 1277  Exempt: This listing is a unit used for furnis...  \n",
       " 3306                                                NaN  \n",
       " 3831                                                NaN  )"
      ]
     },
     "execution_count": 4,
     "metadata": {},
     "output_type": "execute_result"
    }
   ],
   "source": [
    "def stratified_sampling(data, group_col, stratify_col, n_samples=50):\n",
    "    sampled_data = []\n",
    "    for group, group_data in data.groupby(group_col):\n",
    "        if len(group_data) > n_samples:\n",
    "            sampled_group = group_data.sample(n=n_samples, random_state=42)\n",
    "        else:\n",
    "            sampled_group = group_data\n",
    "        sampled_data.append(sampled_group)\n",
    "    return pd.concat(sampled_data)\n",
    "\n",
    "# Apply stratified sampling\n",
    "sampled_data = stratified_sampling(data, group_col='neighbourhood', stratify_col='price', n_samples=50)\n",
    "\n",
    "# Display the reduced dataset's size and structure\n",
    "sampled_data.shape, sampled_data.head()"
   ]
  },
  {
   "cell_type": "code",
   "execution_count": null,
   "metadata": {},
   "outputs": [],
   "source": [
    "sampled_data.to_csv('sampled_listings.csv', index=False)"
   ]
  }
 ],
 "metadata": {
  "kernelspec": {
   "display_name": "Python 3",
   "language": "python",
   "name": "python3"
  },
  "language_info": {
   "codemirror_mode": {
    "name": "ipython",
    "version": 3
   },
   "file_extension": ".py",
   "mimetype": "text/x-python",
   "name": "python",
   "nbconvert_exporter": "python",
   "pygments_lexer": "ipython3",
   "version": "3.10.0"
  }
 },
 "nbformat": 4,
 "nbformat_minor": 2
}
