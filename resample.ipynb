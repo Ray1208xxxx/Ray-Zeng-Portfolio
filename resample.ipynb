{
 "cells": [
  {
   "cell_type": "code",
   "execution_count": 10,
   "metadata": {},
   "outputs": [
    {
     "data": {
      "text/plain": [
       "(      id                                              name  host_id host_name  \\\n",
       " 0   3781                         HARBORSIDE-Walk to subway     4804     Frank   \n",
       " 1   5506    ** Fort Hill Inn Private! Minutes to center!**     8229     Terry   \n",
       " 2   6695     Fort Hill Inn *Sunny* 1 bedroom, condo duplex     8229     Terry   \n",
       " 3   8789               Curved Glass Studio/1bd facing Park    26988      Anne   \n",
       " 4  10811  Back Bay Apt Studio-3 blocks to Pru center & \"T\"    38997  Michelle   \n",
       " \n",
       "   neighbourhood  latitude  longitude        room_type  price  minimum_nights  \\\n",
       " 0   East Boston  42.36413  -71.02991  Entire home/apt  125.0              29   \n",
       " 1       Roxbury  42.32844  -71.09581  Entire home/apt  139.0               3   \n",
       " 2       Roxbury  42.32802  -71.09387  Entire home/apt  179.0               3   \n",
       " 3   Beacon Hill  42.35867  -71.06307  Entire home/apt   92.0              91   \n",
       " 4      Back Bay  42.35173  -71.08685  Entire home/apt  130.0              91   \n",
       " \n",
       "    number_of_reviews last_review  reviews_per_month  \\\n",
       " 0                 25  2023/12/11               0.23   \n",
       " 1                123   2024/4/24               0.66   \n",
       " 2                128   2024/4/16               0.71   \n",
       " 3                 29   2024/5/15               0.24   \n",
       " 4                  9   2019/7/22               0.09   \n",
       " \n",
       "    calculated_host_listings_count  availability_365  number_of_reviews_ltm  \\\n",
       " 0                               1               317                      1   \n",
       " 1                              10               112                      5   \n",
       " 2                              10                79                      4   \n",
       " 3                               8               101                      3   \n",
       " 4                              13               364                      0   \n",
       " \n",
       "       license  \n",
       " 0         NaN  \n",
       " 1  STR-490093  \n",
       " 2  STR-491702  \n",
       " 3         NaN  \n",
       " 4         NaN  ,\n",
       " Index(['id', 'name', 'host_id', 'host_name', 'neighbourhood', 'latitude',\n",
       "        'longitude', 'room_type', 'price', 'minimum_nights',\n",
       "        'number_of_reviews', 'last_review', 'reviews_per_month',\n",
       "        'calculated_host_listings_count', 'availability_365',\n",
       "        'number_of_reviews_ltm', 'license'],\n",
       "       dtype='object'))"
      ]
     },
     "execution_count": 10,
     "metadata": {},
     "output_type": "execute_result"
    }
   ],
   "source": [
    "import pandas as pd\n",
    "\n",
    "# Load the uploaded CSV file to review its structure and contents\n",
    "file_path = 'listings.csv'\n",
    "data = pd.read_csv(file_path, encoding='latin1')\n",
    "\n",
    "# Display the first few rows to understand the structure of the data\n",
    "data.head(), data.columns"
   ]
  },
  {
   "cell_type": "code",
   "execution_count": 11,
   "metadata": {},
   "outputs": [
    {
     "data": {
      "text/plain": [
       "((910, 18),\n",
       "                       id                                               name  \\\n",
       " 2054            53807942                    Twin Bedroom B in #835: Allston   \n",
       " 3306  967311247275960043                   Full Bedroom A in #1419: Allston   \n",
       " 3353  972322923270523366               AL/R3 Boston's New Room Central Spot   \n",
       " 180              4909590  ALLSTON LOADED STUDIO: Steps to BU, BC & hospi...   \n",
       " 740             21038943                                        Single room   \n",
       " \n",
       "         host_id host_name neighbourhood   latitude  longitude  \\\n",
       " 2054  297860058    Sophia       Allston  42.354900 -71.130240   \n",
       " 3306  297860058    Sophia       Allston  42.356780 -71.132080   \n",
       " 3353  412452734       Dan       Allston  42.350072 -71.134742   \n",
       " 180    25279966        Vj       Allston  42.348380 -71.131630   \n",
       " 740    46580723      Zong       Allston  42.359500 -71.129470   \n",
       " \n",
       "             room_type  price  minimum_nights  number_of_reviews last_review  \\\n",
       " 2054     Private room   44.0              91                  0         NaN   \n",
       " 3306     Private room   44.0              91                  0         NaN   \n",
       " 3353     Private room   47.0              29                 10   2024/6/18   \n",
       " 180   Entire home/apt   99.0             250                346   2023/8/28   \n",
       " 740      Private room   82.0              91                 45   2022/3/18   \n",
       " \n",
       "       reviews_per_month  calculated_host_listings_count  availability_365  \\\n",
       " 2054                NaN                             154               357   \n",
       " 3306                NaN                             154               357   \n",
       " 3353               1.13                               9               243   \n",
       " 180                3.00                               2                40   \n",
       " 740                0.55                               3               365   \n",
       " \n",
       "       number_of_reviews_ltm  \\\n",
       " 2054                      0   \n",
       " 3306                      0   \n",
       " 3353                     10   \n",
       " 180                       1   \n",
       " 740                       0   \n",
       " \n",
       "                                                 license  bin  \n",
       " 2054                                                NaN  0.0  \n",
       " 3306                                                NaN  0.0  \n",
       " 3353  Exempt: This listing is a unit used for furnis...  0.0  \n",
       " 180                                          STR-415702  1.0  \n",
       " 740                                                 NaN  1.0  )"
      ]
     },
     "execution_count": 11,
     "metadata": {},
     "output_type": "execute_result"
    }
   ],
   "source": [
    "def stratified_group_sampling(data, group_col, stratify_col, bins, samples_per_bin):\n",
    "    sampled_data = []\n",
    "    for group, group_data in data.groupby(group_col):\n",
    "        # Create bins for the stratify_col within the group\n",
    "        group_data['bin'] = pd.cut(group_data[stratify_col], bins=bins, labels=False)\n",
    "        \n",
    "        # Sample from each bin within the group\n",
    "        for bin_id, bin_data in group_data.groupby('bin'):\n",
    "            if not bin_data.empty:\n",
    "                if len(bin_data) > samples_per_bin:\n",
    "                    sampled_bin = bin_data.sample(n=samples_per_bin, random_state=42)\n",
    "                else:\n",
    "                    sampled_bin = bin_data\n",
    "                sampled_data.append(sampled_bin)\n",
    "    \n",
    "    # Combine all sampled data\n",
    "    return pd.concat(sampled_data)\n",
    "\n",
    "# Define bins for price and the number of samples to retain per bin\n",
    "price_bins = [0, 50, 100, 200, 500, 1000, 2000, data['price'].max()]\n",
    "samples_per_price_bin = 10\n",
    "\n",
    "# Apply the stratified group sampling\n",
    "stratified_sampled_data = stratified_group_sampling(\n",
    "    data, group_col='neighbourhood', stratify_col='price', bins=price_bins, samples_per_bin=samples_per_price_bin\n",
    ")\n",
    "\n",
    "# Display the size and structure of the reduced dataset\n",
    "stratified_sampled_data.shape, stratified_sampled_data.head()"
   ]
  },
  {
   "cell_type": "code",
   "execution_count": 12,
   "metadata": {},
   "outputs": [],
   "source": [
    "stratified_sampled_data.to_csv('sampled_listings.csv', index=False)"
   ]
  }
 ],
 "metadata": {
  "kernelspec": {
   "display_name": "Python 3",
   "language": "python",
   "name": "python3"
  },
  "language_info": {
   "codemirror_mode": {
    "name": "ipython",
    "version": 3
   },
   "file_extension": ".py",
   "mimetype": "text/x-python",
   "name": "python",
   "nbconvert_exporter": "python",
   "pygments_lexer": "ipython3",
   "version": "3.10.0"
  }
 },
 "nbformat": 4,
 "nbformat_minor": 2
}
